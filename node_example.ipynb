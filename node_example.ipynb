{
 "cells": [
  {
   "cell_type": "code",
<<<<<<< HEAD
   "execution_count": null,
=======
   "execution_count": 1,
>>>>>>> parent of 81cbb69 (First Commit)
   "metadata": {},
   "outputs": [],
   "source": [
    "from communication import multicastNode , Node\n",
    "import time"
   ]
  },
  {
   "cell_type": "code",
<<<<<<< HEAD
   "execution_count": null,
=======
   "execution_count": 2,
>>>>>>> parent of 81cbb69 (First Commit)
   "metadata": {},
   "outputs": [],
   "source": [
    "a = multicastNode(port = 55544, mode = \"B\")\n",
    "b = multicastNode(port = 55566 , mode  = \"R\")\n",
    "a.Start()\n",
    "a.Send((a.MCAST_GRP, a.MCAST_PORT) ,\"str\", b\"hello\")\n",
    "b.Start()\n",
    "time.sleep(4)\n",
    "\n",
    "a.kill\n",
    "b.kill\n"
   ]
  },
  {
   "cell_type": "code",
<<<<<<< HEAD
   "execution_count": null,
   "metadata": {},
   "outputs": [],
=======
   "execution_count": 3,
   "metadata": {},
   "outputs": [
    {
     "name": "stdout",
     "output_type": "stream",
     "text": [
      "Starting...\n",
      "\u001b[1mNode : Standard\u001b[0m\n",
      "Starting...\n",
      "\u001b[1mNode : Standard\u001b[0m\n",
      "Listening @ 10.1.45.21 : 55522\n",
      "Listening @ 10.1.45.21 : 55566\n",
      "\u001b[92m\t<<< 10.1.45.21 : 55566 \u001b[0m \u001b[96m\t>>> 10.1.45.21 : 55522 \u001b[0m\n",
      "\u001b[96m\t\t|_ int : 5 bytes \u001b[0m\n",
      "\n",
      "\u001b[92m\t\t|_ int : 5 bytes \u001b[0m\n",
      "\n",
      "Terminating program...\n",
      "\n",
      "10.1.45.21 : 55522 Server - closed\n",
      "\n",
      "Exiting program.\n",
      "\n",
      "Terminating program...\n",
      "\n",
      "10.1.45.21 : 55566 Server - closed\n",
      "\n",
      "Exiting program.\n"
     ]
    }
   ],
>>>>>>> parent of 81cbb69 (First Commit)
   "source": [
    "a = Node(port  = 55522)\n",
    "b = Node(port  = 55566)\n",
    "\n",
    "a.Start()\n",
    "b.Start()\n",
    "b.Send((a.host, a.port), \"str\", b\"hello\")\n",
    "time.sleep(4)\n",
    "a.kill\n",
    "b.kill "
   ]
  }
 ],
 "metadata": {
  "kernelspec": {
   "display_name": "Python 3",
   "language": "python",
   "name": "python3"
  },
  "language_info": {
   "codemirror_mode": {
    "name": "ipython",
    "version": 3
   },
   "file_extension": ".py",
   "mimetype": "text/x-python",
   "name": "python",
   "nbconvert_exporter": "python",
   "pygments_lexer": "ipython3",
   "version": "3.11.0"
  },
  "orig_nbformat": 4
 },
 "nbformat": 4,
 "nbformat_minor": 2
}
